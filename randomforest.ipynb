{
  "nbformat": 4,
  "nbformat_minor": 0,
  "metadata": {
    "kernelspec": {
      "display_name": "Python 3",
      "language": "python",
      "name": "python3"
    },
    "language_info": {
      "codemirror_mode": {
        "name": "ipython",
        "version": 3
      },
      "file_extension": ".py",
      "mimetype": "text/x-python",
      "name": "python",
      "nbconvert_exporter": "python",
      "pygments_lexer": "ipython3",
      "version": "3.7.3"
    },
    "colab": {
      "name": "randomforest.ipynb",
      "provenance": [],
      "collapsed_sections": []
    }
  },
  "cells": [
    {
      "cell_type": "code",
      "metadata": {
        "id": "vN5Y1kRFqQBJ"
      },
      "source": [
        "import numpy as np\n",
        "import matplotlib.pyplot as plt\n",
        "import pandas as pd"
      ],
      "execution_count": null,
      "outputs": []
    },
    {
      "cell_type": "code",
      "metadata": {
        "id": "EKDAVflaqQBP"
      },
      "source": [
        "X_train = pd.read_csv('https://raw.githubusercontent.com/mohith99/group-project4-1/master/X.csv',error_bad_lines=False)\n",
        "y_train = pd.read_csv('https://raw.githubusercontent.com/mohith99/group-project4-1/master/y_cat.csv',error_bad_lines=False)\n",
        "X_test = pd.read_csv('https://raw.githubusercontent.com/mohith99/group-project4-1/master/X_test.csv',error_bad_lines=False)\n",
        "y_test = pd.read_csv('https://raw.githubusercontent.com/mohith99/group-project4-1/master/y_test.csv',error_bad_lines=False)"
      ],
      "execution_count": null,
      "outputs": []
    },
    {
      "cell_type": "markdown",
      "metadata": {
        "id": "kuEWNUAbqQBR"
      },
      "source": [
        "#from sklearn.model_selection import train_test_split\n",
        "#X_train, X_test, y_train, y_test = train_test_split(X, y, test_size = 0.25, random_state = 0)"
      ]
    },
    {
      "cell_type": "code",
      "metadata": {
        "colab": {
          "base_uri": "https://localhost:8080/"
        },
        "id": "5lOFFgcZfOt9",
        "outputId": "01ff521a-afc9-44b0-d57e-450b6e8a2937"
      },
      "source": [
        "X_train.shape"
      ],
      "execution_count": null,
      "outputs": [
        {
          "output_type": "execute_result",
          "data": {
            "text/plain": [
              "(3947, 70)"
            ]
          },
          "metadata": {
            "tags": []
          },
          "execution_count": 16
        }
      ]
    },
    {
      "cell_type": "code",
      "metadata": {
        "id": "VA4e2gV3qQBU",
        "colab": {
          "base_uri": "https://localhost:8080/"
        },
        "outputId": "1cf44586-5ff6-4606-d2c7-8928b3e80bab"
      },
      "source": [
        "# Fitting Random Forest Classification to the Training set\n",
        "from sklearn.ensemble import RandomForestClassifier\n",
        "classifier = RandomForestClassifier(n_estimators = 10000, criterion = 'entropy')\n",
        "classifier.fit(X_train, y_train)"
      ],
      "execution_count": null,
      "outputs": [
        {
          "output_type": "stream",
          "text": [
            "/usr/local/lib/python3.6/dist-packages/ipykernel_launcher.py:4: DataConversionWarning: A column-vector y was passed when a 1d array was expected. Please change the shape of y to (n_samples,), for example using ravel().\n",
            "  after removing the cwd from sys.path.\n"
          ],
          "name": "stderr"
        },
        {
          "output_type": "execute_result",
          "data": {
            "text/plain": [
              "RandomForestClassifier(bootstrap=True, ccp_alpha=0.0, class_weight=None,\n",
              "                       criterion='entropy', max_depth=None, max_features='auto',\n",
              "                       max_leaf_nodes=None, max_samples=None,\n",
              "                       min_impurity_decrease=0.0, min_impurity_split=None,\n",
              "                       min_samples_leaf=1, min_samples_split=2,\n",
              "                       min_weight_fraction_leaf=0.0, n_estimators=10000,\n",
              "                       n_jobs=None, oob_score=False, random_state=None,\n",
              "                       verbose=0, warm_start=False)"
            ]
          },
          "metadata": {
            "tags": []
          },
          "execution_count": 4
        }
      ]
    },
    {
      "cell_type": "code",
      "metadata": {
        "id": "hFK5sjrZqQBY",
        "colab": {
          "base_uri": "https://localhost:8080/"
        },
        "outputId": "c14c71d4-1fee-4ccc-e233-e202041a9ac1"
      },
      "source": [
        "# Predicting the Test set results\n",
        "y_pred = classifier.predict(X_test)\n",
        "rf_probs = classifier.predict_proba(X_test) #learn how to plot roc curves for multiclass-clasification\n",
        "rf_probs"
      ],
      "execution_count": null,
      "outputs": [
        {
          "output_type": "execute_result",
          "data": {
            "text/plain": [
              "array([[0.0434, 0.0821, 0.0205, 0.854 ],\n",
              "       [0.0683, 0.1147, 0.0287, 0.7883],\n",
              "       [0.1607, 0.7175, 0.0935, 0.0283],\n",
              "       [0.0112, 0.0587, 0.0076, 0.9225],\n",
              "       [0.7254, 0.0868, 0.079 , 0.1088],\n",
              "       [0.7069, 0.1669, 0.048 , 0.0782],\n",
              "       [0.7627, 0.0942, 0.1116, 0.0315],\n",
              "       [0.0581, 0.0878, 0.0348, 0.8193],\n",
              "       [0.0535, 0.0911, 0.0178, 0.8376],\n",
              "       [0.7527, 0.1006, 0.0833, 0.0634],\n",
              "       [0.0319, 0.0465, 0.0112, 0.9104],\n",
              "       [0.0234, 0.0732, 0.0274, 0.876 ],\n",
              "       [0.7488, 0.0504, 0.1651, 0.0357],\n",
              "       [0.7634, 0.0509, 0.1268, 0.0589],\n",
              "       [0.7604, 0.1208, 0.0787, 0.0401],\n",
              "       [0.1542, 0.6555, 0.1274, 0.0629],\n",
              "       [0.0955, 0.7863, 0.0572, 0.061 ],\n",
              "       [0.7268, 0.0719, 0.1321, 0.0692],\n",
              "       [0.1499, 0.0474, 0.7517, 0.051 ],\n",
              "       [0.1153, 0.6673, 0.0777, 0.1397],\n",
              "       [0.0689, 0.6865, 0.0441, 0.2005],\n",
              "       [0.7067, 0.0605, 0.1008, 0.132 ],\n",
              "       [0.7743, 0.0743, 0.0937, 0.0577],\n",
              "       [0.0983, 0.0226, 0.8602, 0.0189],\n",
              "       [0.0844, 0.8268, 0.0263, 0.0625],\n",
              "       [0.0692, 0.0877, 0.0311, 0.812 ],\n",
              "       [0.102 , 0.69  , 0.0701, 0.1379],\n",
              "       [0.7266, 0.1656, 0.0565, 0.0513],\n",
              "       [0.1307, 0.0817, 0.7269, 0.0607],\n",
              "       [0.7683, 0.0501, 0.1621, 0.0195],\n",
              "       [0.0494, 0.0616, 0.0274, 0.8616],\n",
              "       [0.12  , 0.7848, 0.0749, 0.0203],\n",
              "       [0.1028, 0.7136, 0.0722, 0.1114],\n",
              "       [0.1112, 0.1169, 0.7236, 0.0483],\n",
              "       [0.797 , 0.0462, 0.132 , 0.0248],\n",
              "       [0.1091, 0.6977, 0.1007, 0.0925],\n",
              "       [0.7159, 0.0845, 0.0565, 0.1431],\n",
              "       [0.124 , 0.0911, 0.738 , 0.0469],\n",
              "       [0.1125, 0.6763, 0.1631, 0.0481],\n",
              "       [0.6849, 0.1282, 0.0387, 0.1482],\n",
              "       [0.1082, 0.0274, 0.7701, 0.0943],\n",
              "       [0.0891, 0.0408, 0.8597, 0.0104],\n",
              "       [0.0793, 0.8207, 0.027 , 0.073 ],\n",
              "       [0.0925, 0.0449, 0.844 , 0.0186],\n",
              "       [0.0676, 0.0799, 0.0543, 0.7982],\n",
              "       [0.1513, 0.0775, 0.7347, 0.0365],\n",
              "       [0.7612, 0.0617, 0.1181, 0.059 ],\n",
              "       [0.1058, 0.0527, 0.7322, 0.1093],\n",
              "       [0.1296, 0.0993, 0.0846, 0.6865],\n",
              "       [0.729 , 0.0687, 0.0766, 0.1257],\n",
              "       [0.0769, 0.0619, 0.7208, 0.1404],\n",
              "       [0.1463, 0.0638, 0.7383, 0.0516],\n",
              "       [0.1512, 0.0771, 0.0817, 0.69  ],\n",
              "       [0.1583, 0.7475, 0.0348, 0.0594],\n",
              "       [0.1171, 0.0512, 0.7858, 0.0459],\n",
              "       [0.6993, 0.1488, 0.0723, 0.0796],\n",
              "       [0.7129, 0.0453, 0.1173, 0.1245],\n",
              "       [0.0489, 0.0803, 0.0268, 0.844 ],\n",
              "       [0.7735, 0.0576, 0.1437, 0.0252],\n",
              "       [0.1254, 0.0529, 0.7595, 0.0622],\n",
              "       [0.1349, 0.6559, 0.1825, 0.0267],\n",
              "       [0.791 , 0.0414, 0.1462, 0.0214],\n",
              "       [0.1614, 0.0603, 0.7453, 0.033 ],\n",
              "       [0.1072, 0.0369, 0.8194, 0.0365],\n",
              "       [0.0301, 0.0668, 0.017 , 0.8861],\n",
              "       [0.1283, 0.7642, 0.0673, 0.0402],\n",
              "       [0.0682, 0.0425, 0.0203, 0.869 ],\n",
              "       [0.1086, 0.1087, 0.1026, 0.6801],\n",
              "       [0.0646, 0.0673, 0.6895, 0.1786],\n",
              "       [0.7053, 0.1142, 0.0656, 0.1149],\n",
              "       [0.0576, 0.7675, 0.0222, 0.1527],\n",
              "       [0.7805, 0.0834, 0.1118, 0.0243],\n",
              "       [0.7494, 0.1344, 0.0808, 0.0354],\n",
              "       [0.7916, 0.0491, 0.1203, 0.039 ],\n",
              "       [0.1391, 0.0531, 0.7869, 0.0209],\n",
              "       [0.7564, 0.1152, 0.0851, 0.0433],\n",
              "       [0.0392, 0.0589, 0.0125, 0.8894],\n",
              "       [0.1351, 0.0468, 0.7942, 0.0239],\n",
              "       [0.1554, 0.7097, 0.1028, 0.0321],\n",
              "       [0.1233, 0.0869, 0.7547, 0.0351],\n",
              "       [0.6938, 0.1928, 0.0173, 0.0961],\n",
              "       [0.761 , 0.047 , 0.1552, 0.0368],\n",
              "       [0.7202, 0.0365, 0.1286, 0.1147],\n",
              "       [0.1281, 0.0272, 0.8192, 0.0255],\n",
              "       [0.1221, 0.0483, 0.0859, 0.7437],\n",
              "       [0.1348, 0.6947, 0.1201, 0.0504],\n",
              "       [0.1481, 0.0584, 0.7706, 0.0229],\n",
              "       [0.7449, 0.072 , 0.1358, 0.0473],\n",
              "       [0.8002, 0.0903, 0.0754, 0.0341],\n",
              "       [0.0829, 0.7139, 0.0539, 0.1493],\n",
              "       [0.1212, 0.0859, 0.6886, 0.1043],\n",
              "       [0.7721, 0.0807, 0.107 , 0.0402],\n",
              "       [0.1331, 0.0452, 0.1768, 0.6449],\n",
              "       [0.1443, 0.6752, 0.1581, 0.0224],\n",
              "       [0.7543, 0.0799, 0.1254, 0.0404],\n",
              "       [0.0881, 0.0748, 0.0542, 0.7829],\n",
              "       [0.1092, 0.0515, 0.0837, 0.7556],\n",
              "       [0.7161, 0.165 , 0.0439, 0.075 ],\n",
              "       [0.0772, 0.0754, 0.0473, 0.8001],\n",
              "       [0.1241, 0.026 , 0.8345, 0.0154],\n",
              "       [0.2143, 0.2408, 0.2081, 0.3368],\n",
              "       [0.3045, 0.3689, 0.1603, 0.1663],\n",
              "       [0.356 , 0.1552, 0.4369, 0.0519],\n",
              "       [0.2817, 0.1448, 0.2977, 0.2758],\n",
              "       [0.417 , 0.1507, 0.3193, 0.113 ],\n",
              "       [0.4106, 0.0703, 0.447 , 0.0721],\n",
              "       [0.2247, 0.1678, 0.4712, 0.1363],\n",
              "       [0.3152, 0.2651, 0.2317, 0.188 ],\n",
              "       [0.3343, 0.0679, 0.549 , 0.0488],\n",
              "       [0.2797, 0.325 , 0.152 , 0.2433],\n",
              "       [0.4329, 0.1101, 0.2994, 0.1576],\n",
              "       [0.3628, 0.284 , 0.275 , 0.0782],\n",
              "       [0.1964, 0.3383, 0.0411, 0.4242],\n",
              "       [0.3809, 0.2564, 0.2302, 0.1325],\n",
              "       [0.2629, 0.1432, 0.1789, 0.415 ],\n",
              "       [0.3498, 0.2334, 0.304 , 0.1128],\n",
              "       [0.2006, 0.1853, 0.2558, 0.3583],\n",
              "       [0.3517, 0.252 , 0.2554, 0.1409],\n",
              "       [0.2916, 0.2549, 0.2086, 0.2449],\n",
              "       [0.2178, 0.199 , 0.1194, 0.4638],\n",
              "       [0.2993, 0.1825, 0.3538, 0.1644],\n",
              "       [0.2053, 0.2088, 0.2291, 0.3568],\n",
              "       [0.2565, 0.2551, 0.2748, 0.2136],\n",
              "       [0.277 , 0.1627, 0.2638, 0.2965],\n",
              "       [0.2562, 0.1618, 0.1896, 0.3924],\n",
              "       [0.2682, 0.4225, 0.1605, 0.1488],\n",
              "       [0.2318, 0.1868, 0.2585, 0.3229],\n",
              "       [0.3727, 0.1561, 0.3611, 0.1101],\n",
              "       [0.2894, 0.3757, 0.0901, 0.2448],\n",
              "       [0.3135, 0.1903, 0.3933, 0.1029],\n",
              "       [0.336 , 0.1042, 0.4295, 0.1303],\n",
              "       [0.2665, 0.3611, 0.0993, 0.2731],\n",
              "       [0.29  , 0.1488, 0.1982, 0.363 ],\n",
              "       [0.2301, 0.1853, 0.1845, 0.4001],\n",
              "       [0.245 , 0.2556, 0.2432, 0.2562],\n",
              "       [0.2399, 0.1908, 0.1985, 0.3708],\n",
              "       [0.4111, 0.2478, 0.2369, 0.1042],\n",
              "       [0.1732, 0.2628, 0.0935, 0.4705],\n",
              "       [0.0803, 0.2145, 0.0159, 0.6893],\n",
              "       [0.1485, 0.2075, 0.0999, 0.5441],\n",
              "       [0.3209, 0.2153, 0.2335, 0.2303],\n",
              "       [0.3108, 0.1014, 0.3668, 0.221 ],\n",
              "       [0.3087, 0.3477, 0.22  , 0.1236],\n",
              "       [0.1599, 0.2391, 0.1548, 0.4462],\n",
              "       [0.3102, 0.1766, 0.285 , 0.2282],\n",
              "       [0.2634, 0.1547, 0.3893, 0.1926],\n",
              "       [0.2217, 0.1081, 0.4596, 0.2106],\n",
              "       [0.3904, 0.2255, 0.1948, 0.1893],\n",
              "       [0.2299, 0.2401, 0.3092, 0.2208],\n",
              "       [0.4751, 0.0895, 0.3619, 0.0735],\n",
              "       [0.3649, 0.1408, 0.2599, 0.2344]])"
            ]
          },
          "metadata": {
            "tags": []
          },
          "execution_count": 5
        }
      ]
    },
    {
      "cell_type": "code",
      "metadata": {
        "id": "9DUM2m5aqQBa",
        "colab": {
          "base_uri": "https://localhost:8080/"
        },
        "outputId": "84f7ad7b-3332-4e0a-ba1a-8f44fa3f1806"
      },
      "source": [
        "# Making the Confusion Matrix\n",
        "from sklearn.metrics import confusion_matrix\n",
        "cm = confusion_matrix(y_test, y_pred)\n",
        "cm"
      ],
      "execution_count": null,
      "outputs": [
        {
          "output_type": "execute_result",
          "data": {
            "text/plain": [
              "array([[38,  3,  6,  3],\n",
              "       [ 4, 21,  2,  3],\n",
              "       [ 5,  1, 26,  3],\n",
              "       [ 2,  1,  3, 30]])"
            ]
          },
          "metadata": {
            "tags": []
          },
          "execution_count": 6
        }
      ]
    },
    {
      "cell_type": "code",
      "metadata": {
        "id": "RMJgPbJSqQBd",
        "colab": {
          "base_uri": "https://localhost:8080/"
        },
        "outputId": "87a8588f-5681-404c-8f9a-078e5423c5fb"
      },
      "source": [
        "#classifier performance\n",
        "train_score = classifier.score(X_train, y_train)#accuracy (for classifiers)  is returned.\n",
        "test_score = classifier.score(X_test, y_test)\n",
        "print('Score on training set: {:.2f}'.format(train_score))\n",
        "print('Score on test set: {:.2f}'.format(test_score))"
      ],
      "execution_count": null,
      "outputs": [
        {
          "output_type": "stream",
          "text": [
            "Score on training set: 1.00\n",
            "Score on test set: 0.76\n"
          ],
          "name": "stdout"
        }
      ]
    },
    {
      "cell_type": "code",
      "metadata": {
        "scrolled": false,
        "id": "cSvMhWBtqQBf",
        "colab": {
          "base_uri": "https://localhost:8080/"
        },
        "outputId": "bba956ca-016f-4ae2-c190-acfdba17c01f"
      },
      "source": [
        "#classifier performance\n",
        "\n",
        "from sklearn.metrics import f1_score\n",
        "f1 = f1_score(y_test, classifier.predict(X_test),average='weighted')\n",
        "print('F1 Score: {:.2f}'.format(f1))"
      ],
      "execution_count": null,
      "outputs": [
        {
          "output_type": "stream",
          "text": [
            "F1 Score: 0.76\n"
          ],
          "name": "stdout"
        }
      ]
    },
    {
      "cell_type": "code",
      "metadata": {
        "id": "ISoaupXnqQBh",
        "colab": {
          "base_uri": "https://localhost:8080/"
        },
        "outputId": "2480f471-918c-4dea-db60-ca45c99765d5"
      },
      "source": [
        "from pprint import pprint\n",
        "print('Parameters currently in use:\\n')\n",
        "pprint(classifier.get_params())"
      ],
      "execution_count": null,
      "outputs": [
        {
          "output_type": "stream",
          "text": [
            "Parameters currently in use:\n",
            "\n",
            "{'bootstrap': True,\n",
            " 'ccp_alpha': 0.0,\n",
            " 'class_weight': None,\n",
            " 'criterion': 'entropy',\n",
            " 'max_depth': None,\n",
            " 'max_features': 'auto',\n",
            " 'max_leaf_nodes': None,\n",
            " 'max_samples': None,\n",
            " 'min_impurity_decrease': 0.0,\n",
            " 'min_impurity_split': None,\n",
            " 'min_samples_leaf': 1,\n",
            " 'min_samples_split': 2,\n",
            " 'min_weight_fraction_leaf': 0.0,\n",
            " 'n_estimators': 10000,\n",
            " 'n_jobs': None,\n",
            " 'oob_score': False,\n",
            " 'random_state': None,\n",
            " 'verbose': 0,\n",
            " 'warm_start': False}\n"
          ],
          "name": "stdout"
        }
      ]
    },
    {
      "cell_type": "code",
      "metadata": {
        "id": "vNurxKJVe3i3"
      },
      "source": [
        "from sklearn.model_selection import RandomizedSearchCV\n",
        "# Number of trees in random forest\n",
        "n_estimators = [int(x) for x in np.linspace(start = 200, stop = 2000, num = 10)]\n",
        "# Number of features to consider at every split\n",
        "max_features = ['auto', 'sqrt']\n",
        "# Maximum number of levels in tree\n",
        "max_depth = [int(x) for x in np.linspace(10, 110, num = 11)]\n",
        "max_depth.append(None)\n",
        "# Minimum number of samples required to split a node\n",
        "min_samples_split = [2, 5, 10]\n",
        "# Minimum number of samples required at each leaf node\n",
        "min_samples_leaf = [1, 2, 4]\n",
        "# Method of selecting samples for training each tree\n",
        "bootstrap = [True, False]\n"
      ],
      "execution_count": null,
      "outputs": []
    },
    {
      "cell_type": "code",
      "metadata": {
        "id": "NIkShn3me3mD",
        "colab": {
          "base_uri": "https://localhost:8080/"
        },
        "outputId": "37d4df87-d30f-40de-d211-4eae07206196"
      },
      "source": [
        "random_grid = {'n_estimators': n_estimators,\n",
        "               'max_features': max_features,\n",
        "               'max_depth': max_depth,\n",
        "               'min_samples_split': min_samples_split,\n",
        "               'min_samples_leaf': min_samples_leaf,\n",
        "               'bootstrap': bootstrap}\n",
        "pprint(random_grid)"
      ],
      "execution_count": null,
      "outputs": [
        {
          "output_type": "stream",
          "text": [
            "{'bootstrap': [True, False],\n",
            " 'max_depth': [10, 20, 30, 40, 50, 60, 70, 80, 90, 100, 110, None],\n",
            " 'max_features': ['auto', 'sqrt'],\n",
            " 'min_samples_leaf': [1, 2, 4],\n",
            " 'min_samples_split': [2, 5, 10],\n",
            " 'n_estimators': [200, 400, 600, 800, 1000, 1200, 1400, 1600, 1800, 2000]}\n"
          ],
          "name": "stdout"
        }
      ]
    },
    {
      "cell_type": "code",
      "metadata": {
        "id": "AxrTbfkRe3pp"
      },
      "source": [
        "\r\n",
        "rf_random = RandomizedSearchCV(estimator = classifier, param_distributions = random_grid, n_iter = 100, cv = 3, verbose=2, random_state=42, n_jobs = -1)"
      ],
      "execution_count": null,
      "outputs": []
    },
    {
      "cell_type": "code",
      "metadata": {
        "id": "bavldOa1fqCv",
        "colab": {
          "base_uri": "https://localhost:8080/",
          "height": 407
        },
        "outputId": "4cf650ad-0661-4160-8d98-242da6ce5c14"
      },
      "source": [
        "rf_random.fit(X_train, y_train)"
      ],
      "execution_count": null,
      "outputs": [
        {
          "output_type": "stream",
          "text": [
            "Fitting 3 folds for each of 100 candidates, totalling 300 fits\n"
          ],
          "name": "stdout"
        },
        {
          "output_type": "stream",
          "text": [
            "[Parallel(n_jobs=-1)]: Using backend LokyBackend with 2 concurrent workers.\n",
            "/usr/local/lib/python3.6/dist-packages/joblib/externals/loky/process_executor.py:691: UserWarning: A worker stopped while some jobs were given to the executor. This can be caused by a too short worker timeout or by a memory leak.\n",
            "  \"timeout or by a memory leak.\", UserWarning\n",
            "[Parallel(n_jobs=-1)]: Done  37 tasks      | elapsed:  4.8min\n"
          ],
          "name": "stderr"
        },
        {
          "output_type": "error",
          "ename": "KeyboardInterrupt",
          "evalue": "ignored",
          "traceback": [
            "\u001b[0;31m---------------------------------------------------------------------------\u001b[0m",
            "\u001b[0;31mKeyboardInterrupt\u001b[0m                         Traceback (most recent call last)",
            "\u001b[0;32m<ipython-input-13-1663bb339ee4>\u001b[0m in \u001b[0;36m<module>\u001b[0;34m()\u001b[0m\n\u001b[0;32m----> 1\u001b[0;31m \u001b[0mrf_random\u001b[0m\u001b[0;34m.\u001b[0m\u001b[0mfit\u001b[0m\u001b[0;34m(\u001b[0m\u001b[0mX_train\u001b[0m\u001b[0;34m,\u001b[0m \u001b[0my_train\u001b[0m\u001b[0;34m)\u001b[0m\u001b[0;34m\u001b[0m\u001b[0;34m\u001b[0m\u001b[0m\n\u001b[0m",
            "\u001b[0;32m/usr/local/lib/python3.6/dist-packages/sklearn/model_selection/_search.py\u001b[0m in \u001b[0;36mfit\u001b[0;34m(self, X, y, groups, **fit_params)\u001b[0m\n\u001b[1;32m    708\u001b[0m                 \u001b[0;32mreturn\u001b[0m \u001b[0mresults\u001b[0m\u001b[0;34m\u001b[0m\u001b[0;34m\u001b[0m\u001b[0m\n\u001b[1;32m    709\u001b[0m \u001b[0;34m\u001b[0m\u001b[0m\n\u001b[0;32m--> 710\u001b[0;31m             \u001b[0mself\u001b[0m\u001b[0;34m.\u001b[0m\u001b[0m_run_search\u001b[0m\u001b[0;34m(\u001b[0m\u001b[0mevaluate_candidates\u001b[0m\u001b[0;34m)\u001b[0m\u001b[0;34m\u001b[0m\u001b[0;34m\u001b[0m\u001b[0m\n\u001b[0m\u001b[1;32m    711\u001b[0m \u001b[0;34m\u001b[0m\u001b[0m\n\u001b[1;32m    712\u001b[0m         \u001b[0;31m# For multi-metric evaluation, store the best_index_, best_params_ and\u001b[0m\u001b[0;34m\u001b[0m\u001b[0;34m\u001b[0m\u001b[0;34m\u001b[0m\u001b[0m\n",
            "\u001b[0;32m/usr/local/lib/python3.6/dist-packages/sklearn/model_selection/_search.py\u001b[0m in \u001b[0;36m_run_search\u001b[0;34m(self, evaluate_candidates)\u001b[0m\n\u001b[1;32m   1482\u001b[0m         evaluate_candidates(ParameterSampler(\n\u001b[1;32m   1483\u001b[0m             \u001b[0mself\u001b[0m\u001b[0;34m.\u001b[0m\u001b[0mparam_distributions\u001b[0m\u001b[0;34m,\u001b[0m \u001b[0mself\u001b[0m\u001b[0;34m.\u001b[0m\u001b[0mn_iter\u001b[0m\u001b[0;34m,\u001b[0m\u001b[0;34m\u001b[0m\u001b[0;34m\u001b[0m\u001b[0m\n\u001b[0;32m-> 1484\u001b[0;31m             random_state=self.random_state))\n\u001b[0m",
            "\u001b[0;32m/usr/local/lib/python3.6/dist-packages/sklearn/model_selection/_search.py\u001b[0m in \u001b[0;36mevaluate_candidates\u001b[0;34m(candidate_params)\u001b[0m\n\u001b[1;32m    687\u001b[0m                                \u001b[0;32mfor\u001b[0m \u001b[0mparameters\u001b[0m\u001b[0;34m,\u001b[0m \u001b[0;34m(\u001b[0m\u001b[0mtrain\u001b[0m\u001b[0;34m,\u001b[0m \u001b[0mtest\u001b[0m\u001b[0;34m)\u001b[0m\u001b[0;34m\u001b[0m\u001b[0;34m\u001b[0m\u001b[0m\n\u001b[1;32m    688\u001b[0m                                in product(candidate_params,\n\u001b[0;32m--> 689\u001b[0;31m                                           cv.split(X, y, groups)))\n\u001b[0m\u001b[1;32m    690\u001b[0m \u001b[0;34m\u001b[0m\u001b[0m\n\u001b[1;32m    691\u001b[0m                 \u001b[0;32mif\u001b[0m \u001b[0mlen\u001b[0m\u001b[0;34m(\u001b[0m\u001b[0mout\u001b[0m\u001b[0;34m)\u001b[0m \u001b[0;34m<\u001b[0m \u001b[0;36m1\u001b[0m\u001b[0;34m:\u001b[0m\u001b[0;34m\u001b[0m\u001b[0;34m\u001b[0m\u001b[0m\n",
            "\u001b[0;32m/usr/local/lib/python3.6/dist-packages/joblib/parallel.py\u001b[0m in \u001b[0;36m__call__\u001b[0;34m(self, iterable)\u001b[0m\n\u001b[1;32m   1052\u001b[0m \u001b[0;34m\u001b[0m\u001b[0m\n\u001b[1;32m   1053\u001b[0m             \u001b[0;32mwith\u001b[0m \u001b[0mself\u001b[0m\u001b[0;34m.\u001b[0m\u001b[0m_backend\u001b[0m\u001b[0;34m.\u001b[0m\u001b[0mretrieval_context\u001b[0m\u001b[0;34m(\u001b[0m\u001b[0;34m)\u001b[0m\u001b[0;34m:\u001b[0m\u001b[0;34m\u001b[0m\u001b[0;34m\u001b[0m\u001b[0m\n\u001b[0;32m-> 1054\u001b[0;31m                 \u001b[0mself\u001b[0m\u001b[0;34m.\u001b[0m\u001b[0mretrieve\u001b[0m\u001b[0;34m(\u001b[0m\u001b[0;34m)\u001b[0m\u001b[0;34m\u001b[0m\u001b[0;34m\u001b[0m\u001b[0m\n\u001b[0m\u001b[1;32m   1055\u001b[0m             \u001b[0;31m# Make sure that we get a last message telling us we are done\u001b[0m\u001b[0;34m\u001b[0m\u001b[0;34m\u001b[0m\u001b[0;34m\u001b[0m\u001b[0m\n\u001b[1;32m   1056\u001b[0m             \u001b[0melapsed_time\u001b[0m \u001b[0;34m=\u001b[0m \u001b[0mtime\u001b[0m\u001b[0;34m.\u001b[0m\u001b[0mtime\u001b[0m\u001b[0;34m(\u001b[0m\u001b[0;34m)\u001b[0m \u001b[0;34m-\u001b[0m \u001b[0mself\u001b[0m\u001b[0;34m.\u001b[0m\u001b[0m_start_time\u001b[0m\u001b[0;34m\u001b[0m\u001b[0;34m\u001b[0m\u001b[0m\n",
            "\u001b[0;32m/usr/local/lib/python3.6/dist-packages/joblib/parallel.py\u001b[0m in \u001b[0;36mretrieve\u001b[0;34m(self)\u001b[0m\n\u001b[1;32m    931\u001b[0m             \u001b[0;32mtry\u001b[0m\u001b[0;34m:\u001b[0m\u001b[0;34m\u001b[0m\u001b[0;34m\u001b[0m\u001b[0m\n\u001b[1;32m    932\u001b[0m                 \u001b[0;32mif\u001b[0m \u001b[0mgetattr\u001b[0m\u001b[0;34m(\u001b[0m\u001b[0mself\u001b[0m\u001b[0;34m.\u001b[0m\u001b[0m_backend\u001b[0m\u001b[0;34m,\u001b[0m \u001b[0;34m'supports_timeout'\u001b[0m\u001b[0;34m,\u001b[0m \u001b[0;32mFalse\u001b[0m\u001b[0;34m)\u001b[0m\u001b[0;34m:\u001b[0m\u001b[0;34m\u001b[0m\u001b[0;34m\u001b[0m\u001b[0m\n\u001b[0;32m--> 933\u001b[0;31m                     \u001b[0mself\u001b[0m\u001b[0;34m.\u001b[0m\u001b[0m_output\u001b[0m\u001b[0;34m.\u001b[0m\u001b[0mextend\u001b[0m\u001b[0;34m(\u001b[0m\u001b[0mjob\u001b[0m\u001b[0;34m.\u001b[0m\u001b[0mget\u001b[0m\u001b[0;34m(\u001b[0m\u001b[0mtimeout\u001b[0m\u001b[0;34m=\u001b[0m\u001b[0mself\u001b[0m\u001b[0;34m.\u001b[0m\u001b[0mtimeout\u001b[0m\u001b[0;34m)\u001b[0m\u001b[0;34m)\u001b[0m\u001b[0;34m\u001b[0m\u001b[0;34m\u001b[0m\u001b[0m\n\u001b[0m\u001b[1;32m    934\u001b[0m                 \u001b[0;32melse\u001b[0m\u001b[0;34m:\u001b[0m\u001b[0;34m\u001b[0m\u001b[0;34m\u001b[0m\u001b[0m\n\u001b[1;32m    935\u001b[0m                     \u001b[0mself\u001b[0m\u001b[0;34m.\u001b[0m\u001b[0m_output\u001b[0m\u001b[0;34m.\u001b[0m\u001b[0mextend\u001b[0m\u001b[0;34m(\u001b[0m\u001b[0mjob\u001b[0m\u001b[0;34m.\u001b[0m\u001b[0mget\u001b[0m\u001b[0;34m(\u001b[0m\u001b[0;34m)\u001b[0m\u001b[0;34m)\u001b[0m\u001b[0;34m\u001b[0m\u001b[0;34m\u001b[0m\u001b[0m\n",
            "\u001b[0;32m/usr/local/lib/python3.6/dist-packages/joblib/_parallel_backends.py\u001b[0m in \u001b[0;36mwrap_future_result\u001b[0;34m(future, timeout)\u001b[0m\n\u001b[1;32m    540\u001b[0m         AsyncResults.get from multiprocessing.\"\"\"\n\u001b[1;32m    541\u001b[0m         \u001b[0;32mtry\u001b[0m\u001b[0;34m:\u001b[0m\u001b[0;34m\u001b[0m\u001b[0;34m\u001b[0m\u001b[0m\n\u001b[0;32m--> 542\u001b[0;31m             \u001b[0;32mreturn\u001b[0m \u001b[0mfuture\u001b[0m\u001b[0;34m.\u001b[0m\u001b[0mresult\u001b[0m\u001b[0;34m(\u001b[0m\u001b[0mtimeout\u001b[0m\u001b[0;34m=\u001b[0m\u001b[0mtimeout\u001b[0m\u001b[0;34m)\u001b[0m\u001b[0;34m\u001b[0m\u001b[0;34m\u001b[0m\u001b[0m\n\u001b[0m\u001b[1;32m    543\u001b[0m         \u001b[0;32mexcept\u001b[0m \u001b[0mCfTimeoutError\u001b[0m \u001b[0;32mas\u001b[0m \u001b[0me\u001b[0m\u001b[0;34m:\u001b[0m\u001b[0;34m\u001b[0m\u001b[0;34m\u001b[0m\u001b[0m\n\u001b[1;32m    544\u001b[0m             \u001b[0;32mraise\u001b[0m \u001b[0mTimeoutError\u001b[0m \u001b[0;32mfrom\u001b[0m \u001b[0me\u001b[0m\u001b[0;34m\u001b[0m\u001b[0;34m\u001b[0m\u001b[0m\n",
            "\u001b[0;32m/usr/lib/python3.6/concurrent/futures/_base.py\u001b[0m in \u001b[0;36mresult\u001b[0;34m(self, timeout)\u001b[0m\n\u001b[1;32m    425\u001b[0m                 \u001b[0;32mreturn\u001b[0m \u001b[0mself\u001b[0m\u001b[0;34m.\u001b[0m\u001b[0m__get_result\u001b[0m\u001b[0;34m(\u001b[0m\u001b[0;34m)\u001b[0m\u001b[0;34m\u001b[0m\u001b[0;34m\u001b[0m\u001b[0m\n\u001b[1;32m    426\u001b[0m \u001b[0;34m\u001b[0m\u001b[0m\n\u001b[0;32m--> 427\u001b[0;31m             \u001b[0mself\u001b[0m\u001b[0;34m.\u001b[0m\u001b[0m_condition\u001b[0m\u001b[0;34m.\u001b[0m\u001b[0mwait\u001b[0m\u001b[0;34m(\u001b[0m\u001b[0mtimeout\u001b[0m\u001b[0;34m)\u001b[0m\u001b[0;34m\u001b[0m\u001b[0;34m\u001b[0m\u001b[0m\n\u001b[0m\u001b[1;32m    428\u001b[0m \u001b[0;34m\u001b[0m\u001b[0m\n\u001b[1;32m    429\u001b[0m             \u001b[0;32mif\u001b[0m \u001b[0mself\u001b[0m\u001b[0;34m.\u001b[0m\u001b[0m_state\u001b[0m \u001b[0;32min\u001b[0m \u001b[0;34m[\u001b[0m\u001b[0mCANCELLED\u001b[0m\u001b[0;34m,\u001b[0m \u001b[0mCANCELLED_AND_NOTIFIED\u001b[0m\u001b[0;34m]\u001b[0m\u001b[0;34m:\u001b[0m\u001b[0;34m\u001b[0m\u001b[0;34m\u001b[0m\u001b[0m\n",
            "\u001b[0;32m/usr/lib/python3.6/threading.py\u001b[0m in \u001b[0;36mwait\u001b[0;34m(self, timeout)\u001b[0m\n\u001b[1;32m    293\u001b[0m         \u001b[0;32mtry\u001b[0m\u001b[0;34m:\u001b[0m    \u001b[0;31m# restore state no matter what (e.g., KeyboardInterrupt)\u001b[0m\u001b[0;34m\u001b[0m\u001b[0;34m\u001b[0m\u001b[0m\n\u001b[1;32m    294\u001b[0m             \u001b[0;32mif\u001b[0m \u001b[0mtimeout\u001b[0m \u001b[0;32mis\u001b[0m \u001b[0;32mNone\u001b[0m\u001b[0;34m:\u001b[0m\u001b[0;34m\u001b[0m\u001b[0;34m\u001b[0m\u001b[0m\n\u001b[0;32m--> 295\u001b[0;31m                 \u001b[0mwaiter\u001b[0m\u001b[0;34m.\u001b[0m\u001b[0macquire\u001b[0m\u001b[0;34m(\u001b[0m\u001b[0;34m)\u001b[0m\u001b[0;34m\u001b[0m\u001b[0;34m\u001b[0m\u001b[0m\n\u001b[0m\u001b[1;32m    296\u001b[0m                 \u001b[0mgotit\u001b[0m \u001b[0;34m=\u001b[0m \u001b[0;32mTrue\u001b[0m\u001b[0;34m\u001b[0m\u001b[0;34m\u001b[0m\u001b[0m\n\u001b[1;32m    297\u001b[0m             \u001b[0;32melse\u001b[0m\u001b[0;34m:\u001b[0m\u001b[0;34m\u001b[0m\u001b[0;34m\u001b[0m\u001b[0m\n",
            "\u001b[0;31mKeyboardInterrupt\u001b[0m: "
          ]
        }
      ]
    },
    {
      "cell_type": "code",
      "metadata": {
        "id": "uVmsMfXafqP7"
      },
      "source": [
        "y_pred_1 = rf_random.predict(X_test)"
      ],
      "execution_count": null,
      "outputs": []
    },
    {
      "cell_type": "code",
      "metadata": {
        "id": "Uf5cYUrfrDTN"
      },
      "source": [
        "from sklearn.metrics import confusion_matrix\n",
        "cm1 = confusion_matrix(y_test, y_pred_1)\n",
        "cm1"
      ],
      "execution_count": null,
      "outputs": []
    },
    {
      "cell_type": "code",
      "metadata": {
        "id": "x1yIxvBLrDiv"
      },
      "source": [
        "train_score = rf_random.score(X_train, y_train)#accuracy (for classifiers)  is returned.\n",
        "test_score = rf_random.score(X_test, y_test)\n",
        "print('Score on training set: {:.2f}'.format(train_score))\n",
        "print('Score on test set: {:.2f}'.format(test_score))"
      ],
      "execution_count": null,
      "outputs": []
    },
    {
      "cell_type": "code",
      "metadata": {
        "id": "e0X-R5TmrDvp"
      },
      "source": [
        "from sklearn.metrics import f1_score\n",
        "f1 = f1_score(y_test, rf_random.predict(X_test),average='weighted')\n",
        "print('F1 Score: {:.2f}'.format(f1))"
      ],
      "execution_count": null,
      "outputs": []
    },
    {
      "cell_type": "code",
      "metadata": {
        "id": "9IvqQtotdieX"
      },
      "source": [
        ""
      ],
      "execution_count": null,
      "outputs": []
    }
  ]
}